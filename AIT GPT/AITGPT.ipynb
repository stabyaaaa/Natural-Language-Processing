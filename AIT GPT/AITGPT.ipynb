{
  "cells": [
    {
      "cell_type": "markdown",
      "metadata": {
        "id": "bFHJTIF48xLs"
      },
      "source": [
        "# Natural Language Processing\n",
        "\n",
        "# Retrieval-Augmented generation (RAG)\n",
        "\n",
        "RAG is a technique for augmenting LLM knowledge with additional, often private or real-time, data.\n",
        "\n",
        "LLMs can reason about wide-ranging topics, but their knowledge is limited to the public data up to a specific point in time that they were trained on. If you want to build AI applications that can reason about private data or data introduced after a model’s cutoff date, you need to augment the knowledge of the model with the specific information it needs.\n",
        "\n",
        "<img src=\"../figures/RAG-process.png\" >\n",
        "\n",
        "Introducing `ChakyBot`, an innovative chatbot designed to assist Chaky (the instructor) and TA (Gun) in explaining the lesson of the NLP course to students. Leveraging LangChain technology, ChakyBot excels in retrieving information from documents, ensuring a seamless and efficient learning experience for students engaging with the NLP curriculum.\n",
        "\n",
        "1. Prompt\n",
        "2. Retrieval\n",
        "3. Memory\n",
        "4. Chain"
      ]
    },
    {
      "cell_type": "code",
      "execution_count": 1,
      "metadata": {
        "colab": {
          "base_uri": "https://localhost:8080/"
        },
        "id": "6Xt0uFaW8xLu",
        "outputId": "398cfe39-f8b9-41e2-8cc4-9f73b0f4663d"
      },
      "outputs": [],
      "source": [
        "# #langchain library\n",
        "# !pip install langchain==0.1.0\n",
        "# #LLM\n",
        "# !pip install accelerate==0.25.0\n",
        "# !pip install transformers==4.36.2\n",
        "# !pip install bitsandbytes==0.41.2\n",
        "# #Text Embedding\n",
        "# !pip install sentence-transformers==2.2.2\n",
        "# !pip install InstructorEmbedding==1.0.1\n",
        "# #vectorstore\n",
        "# !pip install pymupdf==1.23.8\n",
        "# !pip install faiss-gpu==1.7.2\n",
        "# !pip install faiss-cpu==1.7.4"
      ]
    },
    {
      "cell_type": "code",
      "execution_count": 2,
      "metadata": {
        "colab": {
          "base_uri": "https://localhost:8080/"
        },
        "id": "UxnXMPCf8xLu",
        "outputId": "777cefe7-e60c-4a97-c5b1-c96c780f4088"
      },
      "outputs": [
        {
          "data": {
            "text/plain": [
              "device(type='cuda')"
            ]
          },
          "execution_count": 2,
          "metadata": {},
          "output_type": "execute_result"
        }
      ],
      "source": [
        "import os\n",
        "import torch\n",
        "# Set GPU device\n",
        "# os.environ[\"CUDA_VISIBLE_DEVICES\"] = \"1\"\n",
        "\n",
        "# os.environ['http_proxy']  = 'http://192.41.170.23:3128'\n",
        "# os.environ['https_proxy'] = 'http://192.41.170.23:3128'\n",
        "\n",
        "device = torch.device('cuda' if torch.cuda.is_available() else 'cpu')\n",
        "device"
      ]
    },
    {
      "cell_type": "markdown",
      "metadata": {
        "id": "5CaZY5Fe8xLv"
      },
      "source": [
        "## 1. Prompt\n",
        "\n",
        "A set of instructions or input provided by a user to guide the model's response, helping it understand the context and generate relevant and coherent language-based output, such as answering questions, completing sentences, or engaging in a conversation."
      ]
    },
    {
      "cell_type": "code",
      "execution_count": 11,
      "metadata": {
        "colab": {
          "base_uri": "https://localhost:8080/"
        },
        "id": "xatFC1Ek8xLv",
        "outputId": "cfef645d-6bff-48f7-d95d-8dd037493e5a"
      },
      "outputs": [
        {
          "data": {
            "text/plain": [
              "PromptTemplate(input_variables=['context', 'question'], template=\"I'm AIT GPT, you can ask me anything related to AIT.\\n    {context}\\n    Question: {question}\\n    Answer:\")"
            ]
          },
          "execution_count": 11,
          "metadata": {},
          "output_type": "execute_result"
        }
      ],
      "source": [
        "from langchain import PromptTemplate\n",
        "\n",
        "prompt_template = \"\"\"\n",
        "    I'm AIT GPT, you can ask me anything related to AIT.\n",
        "    {context}\n",
        "    Question: {question}\n",
        "    Answer:\n",
        "    \"\"\".strip()\n",
        "\n",
        "PROMPT = PromptTemplate.from_template(\n",
        "    template = prompt_template\n",
        ")\n",
        "\n",
        "PROMPT\n",
        "#using str.format\n",
        "#The placeholder is defined using curly brackets: {} {}"
      ]
    },
    {
      "cell_type": "code",
      "execution_count": 12,
      "metadata": {
        "colab": {
          "base_uri": "https://localhost:8080/",
          "height": 53
        },
        "id": "o3D30y308xLv",
        "outputId": "d43593b1-9ba8-4b21-adeb-1c38fa6f82e9"
      },
      "outputs": [
        {
          "data": {
            "text/plain": [
              "\"I'm AIT GPT, you can ask me anything related to AIT.\\n    AIT is in Pathum Thani, Thailand\\n    Question: Where is AIT?\\n    Answer:\""
            ]
          },
          "execution_count": 12,
          "metadata": {},
          "output_type": "execute_result"
        }
      ],
      "source": [
        "PROMPT.format(\n",
        "    context = \"AIT is in Pathum Thani, Thailand\",\n",
        "    question = \"Where is AIT?\"\n",
        ")"
      ]
    },
    {
      "cell_type": "markdown",
      "metadata": {
        "id": "izx_oDKA8xLv"
      },
      "source": [
        "Note : [How to improve prompting (Zero-shot, Few-shot, Chain-of-Thought, etc.](https://github.com/chaklam-silpasuwanchai/Natural-Language-Processing/blob/main/Code/05%20-%20RAG/advance/cot-tot-prompting.ipynb)"
      ]
    },
    {
      "cell_type": "markdown",
      "metadata": {
        "id": "b4yg-vNI8xLw"
      },
      "source": [
        "## 2. Retrieval\n",
        "\n",
        "1. `Document loaders` : Load documents from many different sources (HTML, PDF, code).\n",
        "2. `Document transformers` : One of the essential steps in document retrieval is breaking down a large document into smaller, relevant chunks to enhance the retrieval process.\n",
        "3. `Text embedding models` : Embeddings capture the semantic meaning of the text, allowing you to quickly and efficiently find other pieces of text that are similar.\n",
        "4. `Vector stores`: there has emerged a need for databases to support efficient storage and searching of these embeddings.\n",
        "5. `Retrievers` : Once the data is in the database, you still need to retrieve it."
      ]
    },
    {
      "cell_type": "markdown",
      "metadata": {
        "id": "uKU7EQMS8xLw"
      },
      "source": [
        "### 2.1 Document Loaders\n",
        "Use document loaders to load data from a source as Document's. A Document is a piece of text and associated metadata. For example, there are document loaders for loading a simple .txt file, for loading the text contents of any web page, or even for loading a transcript of a YouTube video.\n",
        "\n",
        "[PDF Loader](https://python.langchain.com/docs/modules/data_connection/document_loaders/pdf)\n",
        "\n",
        "[Download Document](https://web.stanford.edu/~jurafsky/slp3/)"
      ]
    },
    {
      "cell_type": "code",
      "execution_count": 5,
      "metadata": {},
      "outputs": [
        {
          "name": "stdout",
          "output_type": "stream",
          "text": [
            "Requirement already satisfied: pypdf in c:\\users\\acer\\.conda\\envs\\nlp-env\\lib\\site-packages (4.1.0)\n"
          ]
        }
      ],
      "source": [
        "# !pip install langchain pymupdf\n",
        "!pip install pypdf\n",
        "# !pip install pwd"
      ]
    },
    {
      "cell_type": "code",
      "execution_count": 7,
      "metadata": {},
      "outputs": [],
      "source": [
        "import os\n",
        "\n",
        "try:\n",
        "    import pwd  # Try importing pwd\n",
        "    home_directory = pwd.getpwuid(os.getuid()).pw_dir\n",
        "except ImportError:\n",
        "    # Handle the case where pwd is not available (Windows)\n",
        "    home_directory = os.path.expanduser('~')\n"
      ]
    },
    {
      "cell_type": "code",
      "execution_count": 9,
      "metadata": {
        "id": "69zIfTL38xLw"
      },
      "outputs": [],
      "source": [
        "from langchain.document_loaders import PyMuPDFLoader\n",
        "\n",
        "nlp_docs = 'dataset/data.pdf'\n",
        "loader = PyMuPDFLoader(nlp_docs)\n",
        "documents = loader.load()"
      ]
    },
    {
      "cell_type": "code",
      "execution_count": null,
      "metadata": {
        "id": "d8M0l7ti8xLw"
      },
      "outputs": [],
      "source": [
        "# documents"
      ]
    },
    {
      "cell_type": "code",
      "execution_count": null,
      "metadata": {
        "colab": {
          "base_uri": "https://localhost:8080/"
        },
        "id": "YvKmMF5Z8xLw",
        "outputId": "5bca39af-9d20-4cc7-f17d-7de938404fb1"
      },
      "outputs": [
        {
          "data": {
            "text/plain": [
              "13"
            ]
          },
          "execution_count": 41,
          "metadata": {},
          "output_type": "execute_result"
        }
      ],
      "source": [
        "len(documents)"
      ]
    },
    {
      "cell_type": "code",
      "execution_count": null,
      "metadata": {
        "colab": {
          "base_uri": "https://localhost:8080/"
        },
        "id": "YmaivcFb8xLw",
        "outputId": "73fa7e6c-f91a-4d1f-faaa-40cb87fba226"
      },
      "outputs": [
        {
          "data": {
            "text/plain": [
              "Document(page_content=\"Asian Institute of Technology\\n15th for SDG#1 No Poverty\\n58th for SDG#17 Partnerships for the Goals\\n64th for SDG#14 Life Below Water\\n67th for SDG#2 Zero Hunger\\n80th for SDG#15 Life on Land\\n100 - 200th for SDG#6 Clean Water and Sanitation\\n100 - 200th for SDG#11 Sustainable Cities and\\nCommunities\\n100 - 200th for Overall Impact\\nIn the 2020 THE Impact Rankings,[10] AIT ranked globally:\\n19th for SDG#1 No Poverty\\n86th for SDG#2 Zero Hunger\\n100 - 200th for SDG#6 Clean Water and Sanitation\\n100 - 200th for SDG#14 Life Below Water\\n100 - 200th for SDG#15 Life on Land\\n300 - 400th for Overall Impact\\nIn 2020 QS Global MBA Rankings,[11] AIT Master of Business Administration (MBA) program ranked 14th in\\nAsia and 1st in Thailand. It also ranked 7th in Asia for Diversity and 18th in the world for Return on Investment.\\nIn the QS World University Rankings by Subject 2020, AIT ranked 2nd in Thailand in Engineering and\\nTechnology,[12] 151-200th in the world in Environmental Studies[13] and in Architecture & Built\\nEnvironment,[14] and 201-250th in the world in Civil and Structural Engineering[15] and in Agricultural and\\nForestry.[16]\\nAIT operates as a self-contained international community at its campus in Pathumthani Province, some 40\\nkilometres (25 mi) north of Bangkok, Thailand. Besides laboratories and academic buildings, the main campus\\nincludes housing, sports, and medical facilities, a conference center, and a library with over 230,000 volumes\\nand 830 print and online periodicals.\\nAIT was hosted by the Faculty of Engineering, Chulalongkorn University, Thailand, before it moved to its\\npresent campus in November 1973. Currently, it is located in the Rangsit area next to Thammasat University\\n(Rangsit Campus), about 65 kilometers from the Suvarnabhumi Airport.\\nAIT has a remote campus called AIT Center in Vietnam. It was established in 1993 under the memorandum of\\nunderstanding between the Vietnam Ministry of Education and Training and the AIT.[17] At that time AITCV\\nwas the first international institution in Vietnam and the first AIT campus outside Thailand.\\nAIT's student body comes from more than 50 countries, with Thailand contributing to about one-third. It has\\nalways been international, with international donors offering scholarships to AIT students for capacity building.\\nFull Scholarships\\nLocation\\nStudent body\\nScholarships\\n\", metadata={'source': 'AIT.pdf', 'file_path': 'AIT.pdf', 'page': 1, 'total_pages': 13, 'format': 'PDF 1.4', 'title': '', 'author': '', 'subject': '', 'keywords': '', 'creator': 'Chromium', 'producer': 'Skia/PDF m121', 'creationDate': \"D:20240320125911+00'00'\", 'modDate': \"D:20240320125911+00'00'\", 'trapped': ''})"
            ]
          },
          "execution_count": 42,
          "metadata": {},
          "output_type": "execute_result"
        }
      ],
      "source": [
        "documents[1]"
      ]
    },
    {
      "cell_type": "markdown",
      "metadata": {
        "id": "TNe5xOau8xLw"
      },
      "source": [
        "### 2.2 Document Transformers\n",
        "\n",
        "This text splitter is the recommended one for generic text. It is parameterized by a list of characters. It tries to split on them in order until the chunks are small enough"
      ]
    },
    {
      "cell_type": "code",
      "execution_count": null,
      "metadata": {
        "id": "LLvBZjD58xLw"
      },
      "outputs": [],
      "source": [
        "from langchain.text_splitter import RecursiveCharacterTextSplitter\n",
        "\n",
        "text_splitter = RecursiveCharacterTextSplitter(\n",
        "    chunk_size = 700,\n",
        "    chunk_overlap = 100\n",
        ")\n",
        "\n",
        "doc = text_splitter.split_documents(documents)"
      ]
    },
    {
      "cell_type": "code",
      "execution_count": null,
      "metadata": {
        "colab": {
          "base_uri": "https://localhost:8080/"
        },
        "id": "e_14ZtCs8xLw",
        "outputId": "6d4a7688-97dc-4edd-bb05-10042228f5bc"
      },
      "outputs": [
        {
          "data": {
            "text/plain": [
              "Document(page_content='in \\nengineering, \\nadvanced\\ntechnologies, sustainable development, and management and planning.\\nIt aims to promote technological change and sustainable development in\\nthe Asia-Pacific region, through higher education, research, and\\noutreach.[1]\\nFounded in 1959 as SEATO Graduate School of Engineering, it\\nreceives funding from organizations and governments around the\\nworld.\\nIn 1967, The Constituent Assembly of Thailand approved legislation\\nfor the Charter of the newly named Asian Institute of Technology in\\nOctober. The Asian Institute of Technology Enabling Act was\\npublished in the Royal Thai Government Gazette in November the\\nsame year. AIT became independent of SEATO as an institution of', metadata={'source': 'AIT.pdf', 'file_path': 'AIT.pdf', 'page': 0, 'total_pages': 13, 'format': 'PDF 1.4', 'title': '', 'author': '', 'subject': '', 'keywords': '', 'creator': 'Chromium', 'producer': 'Skia/PDF m121', 'creationDate': \"D:20240320125911+00'00'\", 'modDate': \"D:20240320125911+00'00'\", 'trapped': ''})"
            ]
          },
          "execution_count": 44,
          "metadata": {},
          "output_type": "execute_result"
        }
      ],
      "source": [
        "doc[1]"
      ]
    },
    {
      "cell_type": "code",
      "execution_count": null,
      "metadata": {
        "colab": {
          "base_uri": "https://localhost:8080/"
        },
        "id": "AwppcTGe8xLw",
        "outputId": "dac0c3d7-8a61-4a27-c3fa-af37c5c22c17"
      },
      "outputs": [
        {
          "data": {
            "text/plain": [
              "56"
            ]
          },
          "execution_count": 45,
          "metadata": {},
          "output_type": "execute_result"
        }
      ],
      "source": [
        "len(doc)"
      ]
    },
    {
      "cell_type": "markdown",
      "metadata": {
        "id": "-9vlp4q68xLx"
      },
      "source": [
        "### 2.3 Text Embedding Models\n",
        "Embeddings create a vector representation of a piece of text. This is useful because it means we can think about text in the vector space, and do things like semantic search where we look for pieces of text that are most similar in the vector space.\n",
        "\n",
        "*Note* Instructor Model : [Huggingface](gingface.co/hkunlp/instructor-base) | [Paper](https://arxiv.org/abs/2212.09741)"
      ]
    },
    {
      "cell_type": "code",
      "execution_count": null,
      "metadata": {
        "colab": {
          "base_uri": "https://localhost:8080/"
        },
        "id": "S7nPkrKN8xLx",
        "outputId": "f7fee9ba-793d-417e-8f5e-321605f12102"
      },
      "outputs": [
        {
          "name": "stdout",
          "output_type": "stream",
          "text": [
            "load INSTRUCTOR_Transformer\n",
            "max_seq_length  512\n"
          ]
        }
      ],
      "source": [
        "import torch\n",
        "from langchain.embeddings import HuggingFaceInstructEmbeddings\n",
        "\n",
        "model_name = 'hkunlp/instructor-base'\n",
        "\n",
        "embedding_model = HuggingFaceInstructEmbeddings(\n",
        "    model_name = model_name,\n",
        "    model_kwargs = {\"device\" : device}\n",
        ")"
      ]
    },
    {
      "cell_type": "markdown",
      "metadata": {
        "id": "4N5MnNfn8xLx"
      },
      "source": [
        "### 2.4 Vector Stores\n",
        "\n",
        "One of the most common ways to store and search over unstructured data is to embed it and store the resulting embedding vectors, and then at query time to embed the unstructured query and retrieve the embedding vectors that are 'most similar' to the embedded query. A vector store takes care of storing embedded data and performing vector search for you."
      ]
    },
    {
      "cell_type": "code",
      "execution_count": null,
      "metadata": {
        "id": "is5lzqyi8xLx"
      },
      "outputs": [],
      "source": [
        "#locate vectorstore\n",
        "vector_path = 'vector-store'\n",
        "if not os.path.exists(vector_path):\n",
        "    os.makedirs(vector_path)\n",
        "    print('create path done')"
      ]
    },
    {
      "cell_type": "code",
      "execution_count": null,
      "metadata": {
        "id": "C-yBs79t8xLx"
      },
      "outputs": [],
      "source": [
        "#save vector locally\n",
        "from langchain.vectorstores import FAISS\n",
        "\n",
        "vectordb = FAISS.from_documents(\n",
        "    documents = doc,\n",
        "    embedding = embedding_model\n",
        ")\n",
        "\n",
        "db_file_name = 'nlp_stanford'\n",
        "\n",
        "vectordb.save_local(\n",
        "    folder_path = os.path.join(vector_path, db_file_name),\n",
        "    index_name = 'nlp' #default index\n",
        ")"
      ]
    },
    {
      "cell_type": "markdown",
      "metadata": {
        "id": "Wk_VZ_4L8xLx"
      },
      "source": [
        "### 2.5 retrievers\n",
        "A retriever is an interface that returns documents given an unstructured query. It is more general than a vector store. A retriever does not need to be able to store documents, only to return (or retrieve) them. Vector stores can be used as the backbone of a retriever, but there are other types of retrievers as well."
      ]
    },
    {
      "cell_type": "code",
      "execution_count": null,
      "metadata": {
        "id": "1xOC8nLx8xLx"
      },
      "outputs": [],
      "source": [
        "#calling vector from local\n",
        "vector_path = '../vector-store'\n",
        "db_file_name = 'nlp_stanford'\n",
        "\n",
        "from langchain.vectorstores import FAISS\n",
        "\n",
        "vectordb = FAISS.load_local(\n",
        "    folder_path = os.path.join(vector_path, db_file_name),\n",
        "    embeddings = embedding_model,\n",
        "    index_name = 'nlp' #default index\n",
        ")"
      ]
    },
    {
      "cell_type": "code",
      "execution_count": null,
      "metadata": {
        "id": "8o9l170a8xLx"
      },
      "outputs": [],
      "source": [
        "#ready to use\n",
        "retriever = vectordb.as_retriever()"
      ]
    },
    {
      "cell_type": "code",
      "execution_count": null,
      "metadata": {
        "colab": {
          "base_uri": "https://localhost:8080/"
        },
        "id": "2inyhCjU8xLx",
        "outputId": "aa2f6bd4-f9c0-4962-d43f-dffee5ff5433"
      },
      "outputs": [
        {
          "data": {
            "text/plain": [
              "[Document(page_content=\"Asian Institute of\\nTechnology\\nAIT\\nFormer\\nnames\\nSEATO Graduate\\nSchool of\\nEngineering\\nMotto\\n'Social Impact with\\nInnovation'\\nEstablished\\n1959\\nPresident\\nKazuo Yamamoto\\nAcademic\\nstaff\\nAbout 100\\nStudents\\n1,700+\\nAddress\\n58 Moo 9, Km42,\\nPaholyothin\\nHighway, Khlong\\nLuang, Pathum\\nThani, Thailand\\nAffiliations\\nIAU, ASAIHL,\\nGMSARN,\\nProSPER.Net,\\nACTU, ANSO\\nWebsite\\nwww.ait.ac.th (http\\ns://www.ait.ac.th/)\\nAsian Institute of Technology\\nThe Asian Institute of Technology (AIT), founded in 1959, is an\\ninternational organization for higher education situated 40km north of\\nBangkok, \\nThailand. \\nIt \\nspecializes \\nin \\nengineering, \\nadvanced\\ntechnologies, sustainable development, and management and planning.\", metadata={'source': 'AIT.pdf', 'file_path': 'AIT.pdf', 'page': 0, 'total_pages': 13, 'format': 'PDF 1.4', 'title': '', 'author': '', 'subject': '', 'keywords': '', 'creator': 'Chromium', 'producer': 'Skia/PDF m121', 'creationDate': \"D:20240320125911+00'00'\", 'modDate': \"D:20240320125911+00'00'\", 'trapped': ''}),\n",
              " Document(page_content='The campus of Asian Institute of Technology is host to several international and non-governmental organizations\\nincluding the Regional Resource Center in Asia and the Pacific (UNEP RRC.AP) (www.rrcap.unep.org) (http\\ns://web.archive.org/web/20101130124318/http://www.rrcap.unep.org/), and the Regional Integrated Multi-\\nHazard Early Warning System for Africa and Asia (RIMES) (www.rimes.int) (http://www.rimes.int/).\\nIt also hosts the global secretariat of the International Partnership for Expanding Waste Management Services of\\nLocal Authorities (IPLA),[23] while the regional secretariat is hosted by UN HABITAT. Four UN agencies,', metadata={'source': 'AIT.pdf', 'file_path': 'AIT.pdf', 'page': 2, 'total_pages': 13, 'format': 'PDF 1.4', 'title': '', 'author': '', 'subject': '', 'keywords': '', 'creator': 'Chromium', 'producer': 'Skia/PDF m121', 'creationDate': \"D:20240320125911+00'00'\", 'modDate': \"D:20240320125911+00'00'\", 'trapped': ''}),\n",
              " Document(page_content='in \\nengineering, \\nadvanced\\ntechnologies, sustainable development, and management and planning.\\nIt aims to promote technological change and sustainable development in\\nthe Asia-Pacific region, through higher education, research, and\\noutreach.[1]\\nFounded in 1959 as SEATO Graduate School of Engineering, it\\nreceives funding from organizations and governments around the\\nworld.\\nIn 1967, The Constituent Assembly of Thailand approved legislation\\nfor the Charter of the newly named Asian Institute of Technology in\\nOctober. The Asian Institute of Technology Enabling Act was\\npublished in the Royal Thai Government Gazette in November the\\nsame year. AIT became independent of SEATO as an institution of', metadata={'source': 'AIT.pdf', 'file_path': 'AIT.pdf', 'page': 0, 'total_pages': 13, 'format': 'PDF 1.4', 'title': '', 'author': '', 'subject': '', 'keywords': '', 'creator': 'Chromium', 'producer': 'Skia/PDF m121', 'creationDate': \"D:20240320125911+00'00'\", 'modDate': \"D:20240320125911+00'00'\", 'trapped': ''}),\n",
              " Document(page_content='Asian Institute of Technology\\n15th for SDG#1 No Poverty\\n58th for SDG#17 Partnerships for the Goals\\n64th for SDG#14 Life Below Water\\n67th for SDG#2 Zero Hunger\\n80th for SDG#15 Life on Land\\n100 - 200th for SDG#6 Clean Water and Sanitation\\n100 - 200th for SDG#11 Sustainable Cities and\\nCommunities\\n100 - 200th for Overall Impact\\nIn the 2020 THE Impact Rankings,[10] AIT ranked globally:\\n19th for SDG#1 No Poverty\\n86th for SDG#2 Zero Hunger\\n100 - 200th for SDG#6 Clean Water and Sanitation\\n100 - 200th for SDG#14 Life Below Water\\n100 - 200th for SDG#15 Life on Land\\n300 - 400th for Overall Impact\\nIn 2020 QS Global MBA Rankings,[11] AIT Master of Business Administration (MBA) program ranked 14th in', metadata={'source': 'AIT.pdf', 'file_path': 'AIT.pdf', 'page': 1, 'total_pages': 13, 'format': 'PDF 1.4', 'title': '', 'author': '', 'subject': '', 'keywords': '', 'creator': 'Chromium', 'producer': 'Skia/PDF m121', 'creationDate': \"D:20240320125911+00'00'\", 'modDate': \"D:20240320125911+00'00'\", 'trapped': ''})]"
            ]
          },
          "execution_count": 51,
          "metadata": {},
          "output_type": "execute_result"
        }
      ],
      "source": [
        "retriever.get_relevant_documents(\"Asian Institute of Technology\")"
      ]
    },
    {
      "cell_type": "markdown",
      "metadata": {
        "id": "i7bE8TqN8xLy"
      },
      "source": [
        "## 3. Memory\n",
        "\n",
        "One of the core utility classes underpinning most (if not all) memory modules is the ChatMessageHistory class. This is a super lightweight wrapper that provides convenience methods for saving HumanMessages, AIMessages, and then fetching them all.\n",
        "\n",
        "You may want to use this class directly if you are managing memory outside of a chain.\n"
      ]
    },
    {
      "cell_type": "code",
      "execution_count": null,
      "metadata": {
        "colab": {
          "base_uri": "https://localhost:8080/"
        },
        "id": "E2sNwzKx8xLy",
        "outputId": "b04cb2b6-f551-4627-a667-1b853e35c240"
      },
      "outputs": [
        {
          "data": {
            "text/plain": [
              "ChatMessageHistory(messages=[])"
            ]
          },
          "execution_count": 52,
          "metadata": {},
          "output_type": "execute_result"
        }
      ],
      "source": [
        "from langchain.memory import ChatMessageHistory\n",
        "\n",
        "history = ChatMessageHistory()\n",
        "history"
      ]
    },
    {
      "cell_type": "code",
      "execution_count": null,
      "metadata": {
        "id": "w-GJ7els8xLy"
      },
      "outputs": [],
      "source": [
        "history.add_user_message('hi')\n",
        "history.add_ai_message('Whats up?')\n",
        "history.add_user_message('How are you')\n",
        "history.add_ai_message('I\\'m quite good. How about you?')"
      ]
    },
    {
      "cell_type": "code",
      "execution_count": null,
      "metadata": {
        "colab": {
          "base_uri": "https://localhost:8080/"
        },
        "id": "T1detYpC8xLy",
        "outputId": "329bdcbe-b9ab-4421-f217-695d7a57769d"
      },
      "outputs": [
        {
          "data": {
            "text/plain": [
              "ChatMessageHistory(messages=[HumanMessage(content='hi'), AIMessage(content='Whats up?'), HumanMessage(content='How are you'), AIMessage(content=\"I'm quite good. How about you?\")])"
            ]
          },
          "execution_count": 54,
          "metadata": {},
          "output_type": "execute_result"
        }
      ],
      "source": [
        "history"
      ]
    },
    {
      "cell_type": "markdown",
      "metadata": {
        "id": "qpHE3nY_8xLy"
      },
      "source": [
        "### 3.1 Memory types\n",
        "\n",
        "There are many different types of memory. Each has their own parameters, their own return types, and is useful in different scenarios.\n",
        "- Converstaion Buffer\n",
        "- Converstaion Buffer Window"
      ]
    },
    {
      "cell_type": "markdown",
      "metadata": {
        "id": "wflPsC0S8xLy"
      },
      "source": [
        "What variables get returned from memory\n",
        "\n",
        "Before going into the chain, various variables are read from memory. These have specific names which need to align with the variables the chain expects. You can see what these variables are by calling memory.load_memory_variables({}). Note that the empty dictionary that we pass in is just a placeholder for real variables. If the memory type you are using is dependent upon the input variables, you may need to pass some in."
      ]
    },
    {
      "cell_type": "markdown",
      "metadata": {
        "id": "1h3Hya-Y8xLy"
      },
      "source": [
        "In this case, you can see that load_memory_variables returns a single key, history. This means that your chain (and likely your prompt) should expect an input named history. You can usually control this variable through parameters on the memory class. For example, if you want the memory variables to be returned in the key chat_history you can do:"
      ]
    },
    {
      "cell_type": "markdown",
      "metadata": {
        "id": "uOMb9AjL8xLy"
      },
      "source": [
        "#### Converstaion Buffer\n",
        "This memory allows for storing messages and then extracts the messages in a variable."
      ]
    },
    {
      "cell_type": "code",
      "execution_count": null,
      "metadata": {
        "colab": {
          "base_uri": "https://localhost:8080/"
        },
        "id": "oFTVPBD68xLy",
        "outputId": "c967e80c-bea4-4725-d15e-5633bfdc9c3e"
      },
      "outputs": [
        {
          "data": {
            "text/plain": [
              "{'history': \"Human: hi\\nAI: What's up?\\nHuman: How are you?\\nAI: I'm quite good. How about you?\"}"
            ]
          },
          "execution_count": 55,
          "metadata": {},
          "output_type": "execute_result"
        }
      ],
      "source": [
        "from langchain.memory import ConversationBufferMemory\n",
        "\n",
        "memory = ConversationBufferMemory()\n",
        "memory.save_context({'input':'hi'}, {'output':'What\\'s up?'})\n",
        "memory.save_context({\"input\":'How are you?'},{'output': 'I\\'m quite good. How about you?'})\n",
        "memory.load_memory_variables({})"
      ]
    },
    {
      "cell_type": "code",
      "execution_count": null,
      "metadata": {
        "colab": {
          "base_uri": "https://localhost:8080/"
        },
        "id": "lZU51KJf8xLz",
        "outputId": "28073272-9537-499d-9458-77ac05532891"
      },
      "outputs": [
        {
          "data": {
            "text/plain": [
              "{'history': [HumanMessage(content='hi'),\n",
              "  AIMessage(content=\"What's up?\"),\n",
              "  HumanMessage(content='How are you?'),\n",
              "  AIMessage(content=\"I'm quite good. How about you?\")]}"
            ]
          },
          "execution_count": 56,
          "metadata": {},
          "output_type": "execute_result"
        }
      ],
      "source": [
        "from langchain.memory import ConversationBufferMemory\n",
        "\n",
        "memory = ConversationBufferMemory(return_messages = True)\n",
        "memory.save_context({'input':'hi'}, {'output':'What\\'s up?'})\n",
        "memory.save_context({\"input\":'How are you?'},{'output': 'I\\'m quite good. How about you?'})\n",
        "memory.load_memory_variables({})"
      ]
    },
    {
      "cell_type": "markdown",
      "metadata": {
        "id": "R2HeoSPb8xLz"
      },
      "source": [
        "#### Conversation Buffer Window\n",
        "- it keeps a list of the interactions of the conversation over time.\n",
        "- it only uses the last K interactions.\n",
        "- it can be useful for keeping a sliding window of the most recent interactions, so the buffer does not get too large."
      ]
    },
    {
      "cell_type": "code",
      "execution_count": null,
      "metadata": {
        "colab": {
          "base_uri": "https://localhost:8080/"
        },
        "id": "uBH2hZ-M8xLz",
        "outputId": "b4a375b9-bffc-4968-fc26-39be9e174dcc"
      },
      "outputs": [
        {
          "data": {
            "text/plain": [
              "{'history': \"Human: How are you?\\nAI: I'm quite good. How about you?\"}"
            ]
          },
          "execution_count": 57,
          "metadata": {},
          "output_type": "execute_result"
        }
      ],
      "source": [
        "from langchain.memory import ConversationBufferWindowMemory\n",
        "\n",
        "memory = ConversationBufferWindowMemory(k=1)\n",
        "memory.save_context({'input':'hi'}, {'output':'What\\'s up?'})\n",
        "memory.save_context({\"input\":'How are you?'},{'output': 'I\\'m quite good. How about you?'})\n",
        "memory.load_memory_variables({})"
      ]
    },
    {
      "cell_type": "markdown",
      "metadata": {
        "id": "NFNA6ARe8xLz"
      },
      "source": [
        "## 4. Chain\n",
        "\n",
        "Using an LLM in isolation is fine for simple applications, but more complex applications require chaining LLMs - either with each other or with other components.\n",
        "\n",
        "An `LLMChain` is a simple chain that adds some functionality around language models.\n",
        "- it consists of a `PromptTemplate` and a `LM` (either an LLM or chat model).\n",
        "- it formats the prompt template using the input key values provided (and also memory key values, if available),\n",
        "- it passes the formatted string to LLM and returns the LLM output.\n",
        "\n",
        "Note : [Download Fastchat Model Here](https://huggingface.co/lmsys/fastchat-t5-3b-v1.0)"
      ]
    },
    {
      "cell_type": "code",
      "execution_count": null,
      "metadata": {
        "id": "bzkabOwE8xLz"
      },
      "outputs": [],
      "source": [
        "# %cd ./models\n",
        "# !git clone https://huggingface.co/lmsys/fastchat-t5-3b-v1.0"
      ]
    },
    {
      "cell_type": "code",
      "execution_count": null,
      "metadata": {
        "colab": {
          "base_uri": "https://localhost:8080/"
        },
        "id": "h0JnXMHC8xLz",
        "outputId": "97375b6f-a57b-4a89-b895-2d9a573ffe50"
      },
      "outputs": [
        {
          "name": "stderr",
          "output_type": "stream",
          "text": [
            "Special tokens have been added in the vocabulary, make sure the associated word embeddings are fine-tuned or trained.\n",
            "Special tokens have been added in the vocabulary, make sure the associated word embeddings are fine-tuned or trained.\n"
          ]
        }
      ],
      "source": [
        "from transformers import AutoTokenizer, pipeline, AutoModelForSeq2SeqLM\n",
        "from transformers import BitsAndBytesConfig\n",
        "from langchain import HuggingFacePipeline\n",
        "import torch\n",
        "\n",
        "model_id = 'lmsys/fastchat-t5-3b-v1.0'\n",
        "\n",
        "tokenizer = AutoTokenizer.from_pretrained(\n",
        "    model_id)\n",
        "\n",
        "tokenizer.pad_token_id = tokenizer.eos_token_id\n",
        "\n",
        "bitsandbyte_config = BitsAndBytesConfig(\n",
        "    load_in_4bit = True,\n",
        "    bnb_4bit_quant_type = \"nf4\",\n",
        "    bnb_4bit_compute_dtype = torch.float16,\n",
        "    bnb_4bit_use_double_quant = True\n",
        ")\n",
        "\n",
        "model = AutoModelForSeq2SeqLM.from_pretrained(\n",
        "    model_id,\n",
        "    quantization_config = bitsandbyte_config, #caution Nvidia\n",
        "    device_map = 'auto',\n",
        "    load_in_8bit = True\n",
        ")\n",
        "\n",
        "pipe = pipeline(\n",
        "    task=\"text2text-generation\",\n",
        "    model=model,\n",
        "    tokenizer=tokenizer,\n",
        "    max_new_tokens = 256,\n",
        "    model_kwargs = {\n",
        "        \"temperature\" : 0,\n",
        "        \"repetition_penalty\": 1.5\n",
        "    }\n",
        ")\n",
        "\n",
        "llm = HuggingFacePipeline(pipeline = pipe)"
      ]
    },
    {
      "cell_type": "markdown",
      "metadata": {
        "id": "-n13_Rfm8xL0"
      },
      "source": [
        "### [Class ConversationalRetrievalChain](https://api.python.langchain.com/en/latest/_modules/langchain/chains/conversational_retrieval/base.html#ConversationalRetrievalChain)\n",
        "\n",
        "- `retriever` : Retriever to use to fetch documents.\n",
        "\n",
        "- `combine_docs_chain` : The chain used to combine any retrieved documents.\n",
        "\n",
        "- `question_generator`: The chain used to generate a new question for the sake of retrieval. This chain will take in the current question (with variable question) and any chat history (with variable chat_history) and will produce a new standalone question to be used later on.\n",
        "\n",
        "- `return_source_documents` : Return the retrieved source documents as part of the final result.\n",
        "\n",
        "- `get_chat_history` : An optional function to get a string of the chat history. If None is provided, will use a default.\n",
        "\n",
        "- `return_generated_question` : Return the generated question as part of the final result.\n",
        "\n",
        "- `response_if_no_docs_found` : If specified, the chain will return a fixed response if no docs are found for the question.\n"
      ]
    },
    {
      "cell_type": "markdown",
      "metadata": {
        "id": "ZvFPdXOX8xL0"
      },
      "source": [
        "`question_generator`"
      ]
    },
    {
      "cell_type": "code",
      "execution_count": null,
      "metadata": {
        "id": "6lQY0ttC8xL0"
      },
      "outputs": [],
      "source": [
        "from langchain.chains import LLMChain\n",
        "from langchain.chains.conversational_retrieval.prompts import CONDENSE_QUESTION_PROMPT\n",
        "from langchain.memory import ConversationBufferWindowMemory\n",
        "from langchain.chains.question_answering import load_qa_chain\n",
        "from langchain.chains import ConversationalRetrievalChain"
      ]
    },
    {
      "cell_type": "code",
      "execution_count": null,
      "metadata": {
        "colab": {
          "base_uri": "https://localhost:8080/"
        },
        "id": "AGtj4XDx8xL0",
        "outputId": "731103eb-2dc0-4372-94b5-b877e4aa8dfd"
      },
      "outputs": [
        {
          "data": {
            "text/plain": [
              "PromptTemplate(input_variables=['chat_history', 'question'], template='Given the following conversation and a follow up question, rephrase the follow up question to be a standalone question, in its original language.\\n\\nChat History:\\n{chat_history}\\nFollow Up Input: {question}\\nStandalone question:')"
            ]
          },
          "execution_count": 61,
          "metadata": {},
          "output_type": "execute_result"
        }
      ],
      "source": [
        "CONDENSE_QUESTION_PROMPT"
      ]
    },
    {
      "cell_type": "code",
      "execution_count": null,
      "metadata": {
        "id": "15iwtoBZ8xL0"
      },
      "outputs": [],
      "source": [
        "question_generator = LLMChain(\n",
        "    llm = llm,\n",
        "    prompt = CONDENSE_QUESTION_PROMPT,\n",
        "    verbose = True\n",
        ")"
      ]
    },
    {
      "cell_type": "code",
      "execution_count": null,
      "metadata": {
        "colab": {
          "base_uri": "https://localhost:8080/"
        },
        "id": "Q4tLhyQ98xL0",
        "outputId": "28acc3b0-a051-40de-9311-30c5bd2ae996"
      },
      "outputs": [
        {
          "name": "stdout",
          "output_type": "stream",
          "text": [
            "\n",
            "\n",
            "\u001b[1m> Entering new LLMChain chain...\u001b[0m\n",
            "Prompt after formatting:\n",
            "\u001b[32;1m\u001b[1;3mGiven the following conversation and a follow up question, rephrase the follow up question to be a standalone question, in its original language.\n",
            "\n",
            "Chat History:\n",
            "Human:What is Machine Learning\n",
            "AI:\n",
            "Human:What is Deep Learning\n",
            "AI:\n",
            "Follow Up Input: Comparing both of them\n",
            "Standalone question:\u001b[0m\n",
            "\n",
            "\u001b[1m> Finished chain.\u001b[0m\n"
          ]
        },
        {
          "data": {
            "text/plain": [
              "{'chat_history': 'Human:What is Machine Learning\\nAI:\\nHuman:What is Deep Learning\\nAI:',\n",
              " 'question': 'Comparing both of them',\n",
              " 'text': '<pad> What  is  the  difference  between  Machine  Learning  and  Deep  Learning  AI?\\n'}"
            ]
          },
          "execution_count": 63,
          "metadata": {},
          "output_type": "execute_result"
        }
      ],
      "source": [
        "query = 'Comparing both of them'\n",
        "chat_history = \"Human:What is Machine Learning\\nAI:\\nHuman:What is Deep Learning\\nAI:\"\n",
        "\n",
        "question_generator({'chat_history' : chat_history, \"question\" : query})"
      ]
    },
    {
      "cell_type": "markdown",
      "metadata": {
        "id": "E-XFseo78xL0"
      },
      "source": [
        "`combine_docs_chain`"
      ]
    },
    {
      "cell_type": "code",
      "execution_count": null,
      "metadata": {
        "colab": {
          "base_uri": "https://localhost:8080/"
        },
        "id": "LOBLgzdO8xL0",
        "outputId": "00a4d532-0021-47d3-d4a6-65ca48fb9b74"
      },
      "outputs": [
        {
          "data": {
            "text/plain": [
              "StuffDocumentsChain(verbose=True, llm_chain=LLMChain(verbose=True, prompt=PromptTemplate(input_variables=['context', 'question'], template=\"I'm AIT GPT to answer all the question about the institution.\\n    {context}\\n    Question: {question}\\n    Answer:\"), llm=HuggingFacePipeline(pipeline=<transformers.pipelines.text2text_generation.Text2TextGenerationPipeline object at 0x7bd32bf3bc40>)), document_variable_name='context')"
            ]
          },
          "execution_count": 64,
          "metadata": {},
          "output_type": "execute_result"
        }
      ],
      "source": [
        "doc_chain = load_qa_chain(\n",
        "    llm = llm,\n",
        "    chain_type = 'stuff',\n",
        "    prompt = PROMPT,\n",
        "    verbose = True\n",
        ")\n",
        "doc_chain"
      ]
    },
    {
      "cell_type": "code",
      "execution_count": null,
      "metadata": {
        "colab": {
          "base_uri": "https://localhost:8080/"
        },
        "id": "2-fnCXkY8xL0",
        "outputId": "7099ff5e-5e58-4763-ae5c-c5eed5d3d0c9",
        "scrolled": true
      },
      "outputs": [
        {
          "name": "stdout",
          "output_type": "stream",
          "text": [
            "\n",
            "\n",
            "\u001b[1m> Entering new StuffDocumentsChain chain...\u001b[0m\n",
            "\n",
            "\n",
            "\u001b[1m> Entering new LLMChain chain...\u001b[0m\n",
            "Prompt after formatting:\n",
            "\u001b[32;1m\u001b[1;3mI'm AIT GPT to answer all the question about the institution.\n",
            "    Asian Institute of\n",
            "Technology\n",
            "AIT\n",
            "Former\n",
            "names\n",
            "SEATO Graduate\n",
            "School of\n",
            "Engineering\n",
            "Motto\n",
            "'Social Impact with\n",
            "Innovation'\n",
            "Established\n",
            "1959\n",
            "President\n",
            "Kazuo Yamamoto\n",
            "Academic\n",
            "staff\n",
            "About 100\n",
            "Students\n",
            "1,700+\n",
            "Address\n",
            "58 Moo 9, Km42,\n",
            "Paholyothin\n",
            "Highway, Khlong\n",
            "Luang, Pathum\n",
            "Thani, Thailand\n",
            "Affiliations\n",
            "IAU, ASAIHL,\n",
            "GMSARN,\n",
            "ProSPER.Net,\n",
            "ACTU, ANSO\n",
            "Website\n",
            "www.ait.ac.th (http\n",
            "s://www.ait.ac.th/)\n",
            "Asian Institute of Technology\n",
            "The Asian Institute of Technology (AIT), founded in 1959, is an\n",
            "international organization for higher education situated 40km north of\n",
            "Bangkok, \n",
            "Thailand. \n",
            "It \n",
            "specializes \n",
            "in \n",
            "engineering, \n",
            "advanced\n",
            "technologies, sustainable development, and management and planning.\n",
            "\n",
            "The campus of Asian Institute of Technology is host to several international and non-governmental organizations\n",
            "including the Regional Resource Center in Asia and the Pacific (UNEP RRC.AP) (www.rrcap.unep.org) (http\n",
            "s://web.archive.org/web/20101130124318/http://www.rrcap.unep.org/), and the Regional Integrated Multi-\n",
            "Hazard Early Warning System for Africa and Asia (RIMES) (www.rimes.int) (http://www.rimes.int/).\n",
            "It also hosts the global secretariat of the International Partnership for Expanding Waste Management Services of\n",
            "Local Authorities (IPLA),[23] while the regional secretariat is hosted by UN HABITAT. Four UN agencies,\n",
            "\n",
            "in \n",
            "engineering, \n",
            "advanced\n",
            "technologies, sustainable development, and management and planning.\n",
            "It aims to promote technological change and sustainable development in\n",
            "the Asia-Pacific region, through higher education, research, and\n",
            "outreach.[1]\n",
            "Founded in 1959 as SEATO Graduate School of Engineering, it\n",
            "receives funding from organizations and governments around the\n",
            "world.\n",
            "In 1967, The Constituent Assembly of Thailand approved legislation\n",
            "for the Charter of the newly named Asian Institute of Technology in\n",
            "October. The Asian Institute of Technology Enabling Act was\n",
            "published in the Royal Thai Government Gazette in November the\n",
            "same year. AIT became independent of SEATO as an institution of\n",
            "\n",
            "Asian Institute of Technology\n",
            "15th for SDG#1 No Poverty\n",
            "58th for SDG#17 Partnerships for the Goals\n",
            "64th for SDG#14 Life Below Water\n",
            "67th for SDG#2 Zero Hunger\n",
            "80th for SDG#15 Life on Land\n",
            "100 - 200th for SDG#6 Clean Water and Sanitation\n",
            "100 - 200th for SDG#11 Sustainable Cities and\n",
            "Communities\n",
            "100 - 200th for Overall Impact\n",
            "In the 2020 THE Impact Rankings,[10] AIT ranked globally:\n",
            "19th for SDG#1 No Poverty\n",
            "86th for SDG#2 Zero Hunger\n",
            "100 - 200th for SDG#6 Clean Water and Sanitation\n",
            "100 - 200th for SDG#14 Life Below Water\n",
            "100 - 200th for SDG#15 Life on Land\n",
            "300 - 400th for Overall Impact\n",
            "In 2020 QS Global MBA Rankings,[11] AIT Master of Business Administration (MBA) program ranked 14th in\n",
            "    Question: Asian Institute of Technology\n",
            "    Answer:\u001b[0m\n",
            "\n",
            "\u001b[1m> Finished chain.\u001b[0m\n",
            "\n",
            "\u001b[1m> Finished chain.\u001b[0m\n"
          ]
        },
        {
          "data": {
            "text/plain": [
              "{'input_documents': [Document(page_content=\"Asian Institute of\\nTechnology\\nAIT\\nFormer\\nnames\\nSEATO Graduate\\nSchool of\\nEngineering\\nMotto\\n'Social Impact with\\nInnovation'\\nEstablished\\n1959\\nPresident\\nKazuo Yamamoto\\nAcademic\\nstaff\\nAbout 100\\nStudents\\n1,700+\\nAddress\\n58 Moo 9, Km42,\\nPaholyothin\\nHighway, Khlong\\nLuang, Pathum\\nThani, Thailand\\nAffiliations\\nIAU, ASAIHL,\\nGMSARN,\\nProSPER.Net,\\nACTU, ANSO\\nWebsite\\nwww.ait.ac.th (http\\ns://www.ait.ac.th/)\\nAsian Institute of Technology\\nThe Asian Institute of Technology (AIT), founded in 1959, is an\\ninternational organization for higher education situated 40km north of\\nBangkok, \\nThailand. \\nIt \\nspecializes \\nin \\nengineering, \\nadvanced\\ntechnologies, sustainable development, and management and planning.\", metadata={'source': 'AIT.pdf', 'file_path': 'AIT.pdf', 'page': 0, 'total_pages': 13, 'format': 'PDF 1.4', 'title': '', 'author': '', 'subject': '', 'keywords': '', 'creator': 'Chromium', 'producer': 'Skia/PDF m121', 'creationDate': \"D:20240320125911+00'00'\", 'modDate': \"D:20240320125911+00'00'\", 'trapped': ''}),\n",
              "  Document(page_content='The campus of Asian Institute of Technology is host to several international and non-governmental organizations\\nincluding the Regional Resource Center in Asia and the Pacific (UNEP RRC.AP) (www.rrcap.unep.org) (http\\ns://web.archive.org/web/20101130124318/http://www.rrcap.unep.org/), and the Regional Integrated Multi-\\nHazard Early Warning System for Africa and Asia (RIMES) (www.rimes.int) (http://www.rimes.int/).\\nIt also hosts the global secretariat of the International Partnership for Expanding Waste Management Services of\\nLocal Authorities (IPLA),[23] while the regional secretariat is hosted by UN HABITAT. Four UN agencies,', metadata={'source': 'AIT.pdf', 'file_path': 'AIT.pdf', 'page': 2, 'total_pages': 13, 'format': 'PDF 1.4', 'title': '', 'author': '', 'subject': '', 'keywords': '', 'creator': 'Chromium', 'producer': 'Skia/PDF m121', 'creationDate': \"D:20240320125911+00'00'\", 'modDate': \"D:20240320125911+00'00'\", 'trapped': ''}),\n",
              "  Document(page_content='in \\nengineering, \\nadvanced\\ntechnologies, sustainable development, and management and planning.\\nIt aims to promote technological change and sustainable development in\\nthe Asia-Pacific region, through higher education, research, and\\noutreach.[1]\\nFounded in 1959 as SEATO Graduate School of Engineering, it\\nreceives funding from organizations and governments around the\\nworld.\\nIn 1967, The Constituent Assembly of Thailand approved legislation\\nfor the Charter of the newly named Asian Institute of Technology in\\nOctober. The Asian Institute of Technology Enabling Act was\\npublished in the Royal Thai Government Gazette in November the\\nsame year. AIT became independent of SEATO as an institution of', metadata={'source': 'AIT.pdf', 'file_path': 'AIT.pdf', 'page': 0, 'total_pages': 13, 'format': 'PDF 1.4', 'title': '', 'author': '', 'subject': '', 'keywords': '', 'creator': 'Chromium', 'producer': 'Skia/PDF m121', 'creationDate': \"D:20240320125911+00'00'\", 'modDate': \"D:20240320125911+00'00'\", 'trapped': ''}),\n",
              "  Document(page_content='Asian Institute of Technology\\n15th for SDG#1 No Poverty\\n58th for SDG#17 Partnerships for the Goals\\n64th for SDG#14 Life Below Water\\n67th for SDG#2 Zero Hunger\\n80th for SDG#15 Life on Land\\n100 - 200th for SDG#6 Clean Water and Sanitation\\n100 - 200th for SDG#11 Sustainable Cities and\\nCommunities\\n100 - 200th for Overall Impact\\nIn the 2020 THE Impact Rankings,[10] AIT ranked globally:\\n19th for SDG#1 No Poverty\\n86th for SDG#2 Zero Hunger\\n100 - 200th for SDG#6 Clean Water and Sanitation\\n100 - 200th for SDG#14 Life Below Water\\n100 - 200th for SDG#15 Life on Land\\n300 - 400th for Overall Impact\\nIn 2020 QS Global MBA Rankings,[11] AIT Master of Business Administration (MBA) program ranked 14th in', metadata={'source': 'AIT.pdf', 'file_path': 'AIT.pdf', 'page': 1, 'total_pages': 13, 'format': 'PDF 1.4', 'title': '', 'author': '', 'subject': '', 'keywords': '', 'creator': 'Chromium', 'producer': 'Skia/PDF m121', 'creationDate': \"D:20240320125911+00'00'\", 'modDate': \"D:20240320125911+00'00'\", 'trapped': ''})],\n",
              " 'question': 'Asian Institute of Technology',\n",
              " 'output_text': '<pad>  AIT  is  an  international  organization  for  higher  education  situated  40km  north  of  Bangkok,  Thailand.  It  specializes  in  engineering,  advanced  technologies,  sustainable  development,  and  management  and  planning.  The  campus  of  AIT  is  host  to  several  international  and  non-governmental  organizations  including  the  Regional  Resource  Center  in  Asia  and  the  Pacific  (UNEP  RRC.AP)  (www.rrcap.unep.org)  (http  s://web.archive.org/web/20101130124318/http://www.rrcap.unep.org/),  and  the  Regional  Integrated  Multi- Hazard  Early  Warning  System  for  Africa  and  Asia  (RIMES)  (www.rimes.int)  (http://www.rimes.int/).  It  also  hosts  the  global  secretariat  of  the  International  Partnership  for  Expanding  Waste  Management '}"
            ]
          },
          "execution_count": 65,
          "metadata": {},
          "output_type": "execute_result"
        }
      ],
      "source": [
        "query = \"Asian Institute of Technology\"\n",
        "input_document = retriever.get_relevant_documents(query)\n",
        "\n",
        "doc_chain({'input_documents':input_document, 'question':query})"
      ]
    },
    {
      "cell_type": "code",
      "execution_count": null,
      "metadata": {
        "colab": {
          "base_uri": "https://localhost:8080/"
        },
        "id": "z3FJsLlx8xL1",
        "outputId": "84266bf0-6fb0-4c49-b7eb-670ec052df9d"
      },
      "outputs": [
        {
          "data": {
            "text/plain": [
              "ConversationalRetrievalChain(memory=ConversationBufferWindowMemory(output_key='answer', return_messages=True, memory_key='chat_history', k=3), verbose=True, combine_docs_chain=StuffDocumentsChain(verbose=True, llm_chain=LLMChain(verbose=True, prompt=PromptTemplate(input_variables=['context', 'question'], template=\"I'm AIT GPT to answer all the question about the institution.\\n    {context}\\n    Question: {question}\\n    Answer:\"), llm=HuggingFacePipeline(pipeline=<transformers.pipelines.text2text_generation.Text2TextGenerationPipeline object at 0x7bd32bf3bc40>)), document_variable_name='context'), question_generator=LLMChain(verbose=True, prompt=PromptTemplate(input_variables=['chat_history', 'question'], template='Given the following conversation and a follow up question, rephrase the follow up question to be a standalone question, in its original language.\\n\\nChat History:\\n{chat_history}\\nFollow Up Input: {question}\\nStandalone question:'), llm=HuggingFacePipeline(pipeline=<transformers.pipelines.text2text_generation.Text2TextGenerationPipeline object at 0x7bd32bf3bc40>)), return_source_documents=True, get_chat_history=<function <lambda> at 0x7bd22a64a830>, retriever=VectorStoreRetriever(tags=['FAISS', 'HuggingFaceInstructEmbeddings'], vectorstore=<langchain_community.vectorstores.faiss.FAISS object at 0x7bd22b271600>))"
            ]
          },
          "execution_count": 66,
          "metadata": {},
          "output_type": "execute_result"
        }
      ],
      "source": [
        "memory = ConversationBufferWindowMemory(\n",
        "    k=3,\n",
        "    memory_key = \"chat_history\",\n",
        "    return_messages = True,\n",
        "    output_key = 'answer'\n",
        ")\n",
        "\n",
        "chain = ConversationalRetrievalChain(\n",
        "    retriever=retriever,\n",
        "    question_generator=question_generator,\n",
        "    combine_docs_chain=doc_chain,\n",
        "    return_source_documents=True,\n",
        "    memory=memory,\n",
        "    verbose=True,\n",
        "    get_chat_history=lambda h : h\n",
        ")\n",
        "chain"
      ]
    },
    {
      "cell_type": "markdown",
      "metadata": {
        "id": "8s3HnTrq8xL1"
      },
      "source": [
        "## 5. Chatbot"
      ]
    },
    {
      "cell_type": "code",
      "execution_count": null,
      "metadata": {
        "colab": {
          "base_uri": "https://localhost:8080/"
        },
        "id": "iltp-FHq8xL1",
        "outputId": "a310a39e-f3fe-4b47-863e-923b92ec09f3"
      },
      "outputs": [
        {
          "name": "stdout",
          "output_type": "stream",
          "text": [
            "\n",
            "\n",
            "\u001b[1m> Entering new ConversationalRetrievalChain chain...\u001b[0m\n",
            "\n",
            "\n",
            "\u001b[1m> Entering new StuffDocumentsChain chain...\u001b[0m\n",
            "\n",
            "\n",
            "\u001b[1m> Entering new LLMChain chain...\u001b[0m\n",
            "Prompt after formatting:\n",
            "\u001b[32;1m\u001b[1;3mI'm AIT GPT to answer all the question about the institution.\n",
            "    chive/2010/9/Report-from-Swedens-least-known-university/). Retrieved 17 June 2019.\n",
            "49. \"Something for Everyone\" (https://www.bangkokpost.com/lifestyle/interview/430220/something-fo\n",
            "r-everyone). Bangkok Post. Retrieved 17 June 2019.\n",
            "50. \"Condolence- Prof. Thomas H. Evans\" (https://www.ait.ac.th/2000/04/condolence/). 25 April\n",
            "2000. Retrieved 3 September 2018.\n",
            "51. \"AIT People\" (https://apps.ait.ac.th/people/). Asian Institute of Technology. Retrieved 14 June\n",
            "2020.\n",
            "52. \"Dr. Prasarn Trairatvorakul\" (https://www.bot.or.th/English/AboutBOT/RolesAndHistory/Governor/\n",
            "Pages/Prasarn.aspx). Retrieved 22 November 2019.\n",
            "\n",
            "Name\n",
            "Degree\n",
            "Degree\n",
            "Year\n",
            "Notability\n",
            "Notes\n",
            "Boonsrang\n",
            "Niumpradit\n",
            "D. Eng.\n",
            "1978\n",
            "Former Thai Army chief\n",
            "Mao Chi-kuo\n",
            "M. Eng.\n",
            "(Community &\n",
            "Regional\n",
            "Development)\n",
            "1975\n",
            "Former Premier of the Republic of China\n",
            "Yu Xiaogang\n",
            "M.Sc.\n",
            "(Interdisciplinary\n",
            "Natural\n",
            "Resource\n",
            "Development\n",
            "and\n",
            "Management)\n",
            "1993\n",
            "Among the six winners of the 2009 Ramon\n",
            "Magsaysay Awards\n",
            "Imtiaz Gilani\n",
            "M. Eng.\n",
            "(Structural\n",
            "Engineering and\n",
            "Construction)\n",
            "1971\n",
            "Provisional Minister of Education for the Government\n",
            "of Khyber Pakhtunkhwa\n",
            "Bindu Lohani\n",
            "Ph.D.\n",
            "(Environmental\n",
            "Engineering)\n",
            "1977\n",
            "Former Vice President Asian Development Bank\n",
            "\n",
            "students constitute the majority of the student body, with Southeast Asia (Thailand and Viet Nam) and South\n",
            "Asia (India, Nepal, Pakistan, Sri Lanka) usually contributing the majority of students\n",
            "Prof. Kazuo Yamamoto is currently the interim president of AIT, succeeding Dr. Eden Y Woon on 1 September\n",
            "2022.[43] Previous presidents include Professor Milton E. Bender Jr. (from USA),[44] Professor Harold E.\n",
            "Hoelscher (from USA), Professor Robert B. Banks (from USA),[45] Professor Alastair M. North (from\n",
            "Scotland),[46][47] Professor Roger GH Downer (Ireland/Canada), Professor Jean-Louis Armand (from France),\n",
            "\n",
            "57. \"Somprasong Boonyachai\" (https://www.marketscreener.com/business-leaders/Sumate-Tanthuw\n",
            "anit-075W7P-E/biography). Retrieved 25 November 2019.\n",
            "58. \"Chaovalit Ekabut\" (https://www.scb.co.th/en/about-us/board-of-director/mr-chaovalit-ekabut.htm\n",
            "l). Retrieved 25 November 2019.\n",
            "59. Preecha, Ekkunagul. \"Preecha Ekkunagul, President/CEO, Central Pattana PCL\" (https://www.bl\n",
            "oomberg.com/profile/person/5497567). BloomBerg.\n",
            "60. \"AIT alumnus is Premier of Taiwan\" (https://www.ait.ac.th/2015/02/ait-alumnus-is-premier-of-taiw\n",
            "an/). 23 February 2015. Retrieved 3 September 2018.\n",
            "61. \"AIT Alumnus wins Ramon Magsaysay Award of 2009\" (https://www.ait.ac.th/2009/08/ait-alumnu\n",
            "    Question: Who are you by the way?\n",
            "    Answer:\u001b[0m\n",
            "\n",
            "\u001b[1m> Finished chain.\u001b[0m\n",
            "\n",
            "\u001b[1m> Finished chain.\u001b[0m\n",
            "\n",
            "\u001b[1m> Finished chain.\u001b[0m\n"
          ]
        },
        {
          "data": {
            "text/plain": [
              "{'question': 'Who are you by the way?',\n",
              " 'chat_history': [],\n",
              " 'answer': '<pad>  I  am  AIT  GPT  (Global  Partnership  Team)  to  answer  all  the  question  about  the  institution.\\n',\n",
              " 'source_documents': [Document(page_content='chive/2010/9/Report-from-Swedens-least-known-university/). Retrieved 17 June 2019.\\n49. \"Something for Everyone\" (https://www.bangkokpost.com/lifestyle/interview/430220/something-fo\\nr-everyone). Bangkok Post. Retrieved 17 June 2019.\\n50. \"Condolence- Prof. Thomas H. Evans\" (https://www.ait.ac.th/2000/04/condolence/). 25 April\\n2000. Retrieved 3 September 2018.\\n51. \"AIT People\" (https://apps.ait.ac.th/people/). Asian Institute of Technology. Retrieved 14 June\\n2020.\\n52. \"Dr. Prasarn Trairatvorakul\" (https://www.bot.or.th/English/AboutBOT/RolesAndHistory/Governor/\\nPages/Prasarn.aspx). Retrieved 22 November 2019.', metadata={'source': 'AIT.pdf', 'file_path': 'AIT.pdf', 'page': 11, 'total_pages': 13, 'format': 'PDF 1.4', 'title': '', 'author': '', 'subject': '', 'keywords': '', 'creator': 'Chromium', 'producer': 'Skia/PDF m121', 'creationDate': \"D:20240320125911+00'00'\", 'modDate': \"D:20240320125911+00'00'\", 'trapped': ''}),\n",
              "  Document(page_content='Name\\nDegree\\nDegree\\nYear\\nNotability\\nNotes\\nBoonsrang\\nNiumpradit\\nD. Eng.\\n1978\\nFormer Thai Army chief\\nMao Chi-kuo\\nM. Eng.\\n(Community &\\nRegional\\nDevelopment)\\n1975\\nFormer Premier of the Republic of China\\nYu Xiaogang\\nM.Sc.\\n(Interdisciplinary\\nNatural\\nResource\\nDevelopment\\nand\\nManagement)\\n1993\\nAmong the six winners of the 2009 Ramon\\nMagsaysay Awards\\nImtiaz Gilani\\nM. Eng.\\n(Structural\\nEngineering and\\nConstruction)\\n1971\\nProvisional Minister of Education for the Government\\nof Khyber Pakhtunkhwa\\nBindu Lohani\\nPh.D.\\n(Environmental\\nEngineering)\\n1977\\nFormer Vice President Asian Development Bank', metadata={'source': 'AIT.pdf', 'file_path': 'AIT.pdf', 'page': 8, 'total_pages': 13, 'format': 'PDF 1.4', 'title': '', 'author': '', 'subject': '', 'keywords': '', 'creator': 'Chromium', 'producer': 'Skia/PDF m121', 'creationDate': \"D:20240320125911+00'00'\", 'modDate': \"D:20240320125911+00'00'\", 'trapped': ''}),\n",
              "  Document(page_content='students constitute the majority of the student body, with Southeast Asia (Thailand and Viet Nam) and South\\nAsia (India, Nepal, Pakistan, Sri Lanka) usually contributing the majority of students\\nProf. Kazuo Yamamoto is currently the interim president of AIT, succeeding Dr. Eden Y Woon on 1 September\\n2022.[43] Previous presidents include Professor Milton E. Bender Jr. (from USA),[44] Professor Harold E.\\nHoelscher (from USA), Professor Robert B. Banks (from USA),[45] Professor Alastair M. North (from\\nScotland),[46][47] Professor Roger GH Downer (Ireland/Canada), Professor Jean-Louis Armand (from France),', metadata={'source': 'AIT.pdf', 'file_path': 'AIT.pdf', 'page': 6, 'total_pages': 13, 'format': 'PDF 1.4', 'title': '', 'author': '', 'subject': '', 'keywords': '', 'creator': 'Chromium', 'producer': 'Skia/PDF m121', 'creationDate': \"D:20240320125911+00'00'\", 'modDate': \"D:20240320125911+00'00'\", 'trapped': ''}),\n",
              "  Document(page_content='57. \"Somprasong Boonyachai\" (https://www.marketscreener.com/business-leaders/Sumate-Tanthuw\\nanit-075W7P-E/biography). Retrieved 25 November 2019.\\n58. \"Chaovalit Ekabut\" (https://www.scb.co.th/en/about-us/board-of-director/mr-chaovalit-ekabut.htm\\nl). Retrieved 25 November 2019.\\n59. Preecha, Ekkunagul. \"Preecha Ekkunagul, President/CEO, Central Pattana PCL\" (https://www.bl\\noomberg.com/profile/person/5497567). BloomBerg.\\n60. \"AIT alumnus is Premier of Taiwan\" (https://www.ait.ac.th/2015/02/ait-alumnus-is-premier-of-taiw\\nan/). 23 February 2015. Retrieved 3 September 2018.\\n61. \"AIT Alumnus wins Ramon Magsaysay Award of 2009\" (https://www.ait.ac.th/2009/08/ait-alumnu', metadata={'source': 'AIT.pdf', 'file_path': 'AIT.pdf', 'page': 11, 'total_pages': 13, 'format': 'PDF 1.4', 'title': '', 'author': '', 'subject': '', 'keywords': '', 'creator': 'Chromium', 'producer': 'Skia/PDF m121', 'creationDate': \"D:20240320125911+00'00'\", 'modDate': \"D:20240320125911+00'00'\", 'trapped': ''})]}"
            ]
          },
          "execution_count": 67,
          "metadata": {},
          "output_type": "execute_result"
        }
      ],
      "source": [
        "prompt_question = \"Who are you by the way?\"\n",
        "answer = chain({\"question\":prompt_question})\n",
        "answer"
      ]
    },
    {
      "cell_type": "code",
      "execution_count": null,
      "metadata": {
        "colab": {
          "base_uri": "https://localhost:8080/"
        },
        "id": "WSHv14gr8xL1",
        "outputId": "6fc41e45-5a0d-4c4d-c9cc-65e7be8ce609"
      },
      "outputs": [
        {
          "name": "stdout",
          "output_type": "stream",
          "text": [
            "\n",
            "\n",
            "\u001b[1m> Entering new ConversationalRetrievalChain chain...\u001b[0m\n",
            "\n",
            "\n",
            "\u001b[1m> Entering new LLMChain chain...\u001b[0m\n",
            "Prompt after formatting:\n",
            "\u001b[32;1m\u001b[1;3mGiven the following conversation and a follow up question, rephrase the follow up question to be a standalone question, in its original language.\n",
            "\n",
            "Chat History:\n",
            "[HumanMessage(content='Who are you by the way?'), AIMessage(content='<pad>  I  am  AIT  GPT  (Global  Partnership  Team)  to  answer  all  the  question  about  the  institution.\\n')]\n",
            "Follow Up Input: Asian Institute of Technology\n",
            "Standalone question:\u001b[0m\n",
            "\n",
            "\u001b[1m> Finished chain.\u001b[0m\n",
            "\n",
            "\n",
            "\u001b[1m> Entering new StuffDocumentsChain chain...\u001b[0m\n",
            "\n",
            "\n",
            "\u001b[1m> Entering new LLMChain chain...\u001b[0m\n",
            "Prompt after formatting:\n",
            "\u001b[32;1m\u001b[1;3mI'm AIT GPT to answer all the question about the institution.\n",
            "    Asian Institute of\n",
            "Technology\n",
            "AIT\n",
            "Former\n",
            "names\n",
            "SEATO Graduate\n",
            "School of\n",
            "Engineering\n",
            "Motto\n",
            "'Social Impact with\n",
            "Innovation'\n",
            "Established\n",
            "1959\n",
            "President\n",
            "Kazuo Yamamoto\n",
            "Academic\n",
            "staff\n",
            "About 100\n",
            "Students\n",
            "1,700+\n",
            "Address\n",
            "58 Moo 9, Km42,\n",
            "Paholyothin\n",
            "Highway, Khlong\n",
            "Luang, Pathum\n",
            "Thani, Thailand\n",
            "Affiliations\n",
            "IAU, ASAIHL,\n",
            "GMSARN,\n",
            "ProSPER.Net,\n",
            "ACTU, ANSO\n",
            "Website\n",
            "www.ait.ac.th (http\n",
            "s://www.ait.ac.th/)\n",
            "Asian Institute of Technology\n",
            "The Asian Institute of Technology (AIT), founded in 1959, is an\n",
            "international organization for higher education situated 40km north of\n",
            "Bangkok, \n",
            "Thailand. \n",
            "It \n",
            "specializes \n",
            "in \n",
            "engineering, \n",
            "advanced\n",
            "technologies, sustainable development, and management and planning.\n",
            "\n",
            "Asia and 1st in Thailand. It also ranked 7th in Asia for Diversity and 18th in the world for Return on Investment.\n",
            "In the QS World University Rankings by Subject 2020, AIT ranked 2nd in Thailand in Engineering and\n",
            "Technology,[12] 151-200th in the world in Environmental Studies[13] and in Architecture & Built\n",
            "Environment,[14] and 201-250th in the world in Civil and Structural Engineering[15] and in Agricultural and\n",
            "Forestry.[16]\n",
            "AIT operates as a self-contained international community at its campus in Pathumthani Province, some 40\n",
            "kilometres (25 mi) north of Bangkok, Thailand. Besides laboratories and academic buildings, the main campus\n",
            "\n",
            "AIT Alumni Association, Thailand Chapter (https://web.archive.org/web/20060319175710/http://w\n",
            "ww.aitthai.or.th/)\n",
            "AIT videos on YouTube (https://www.youtube.com/user/aitasia)\n",
            "AIT Alumni in Vietnam (https://web.archive.org/web/20120722021252/http://360.aitaa.vn/)\n",
            "Unified International Bachelor-Master Degree Program (http://www.unified.ait.ac.th/)\n",
            "Retrieved from \"https://en.wikipedia.org/w/index.php?title=Asian_Institute_of_Technology&oldid=1209069273\"\n",
            "\n",
            "includes housing, sports, and medical facilities, a conference center, and a library with over 230,000 volumes\n",
            "and 830 print and online periodicals.\n",
            "AIT was hosted by the Faculty of Engineering, Chulalongkorn University, Thailand, before it moved to its\n",
            "present campus in November 1973. Currently, it is located in the Rangsit area next to Thammasat University\n",
            "(Rangsit Campus), about 65 kilometers from the Suvarnabhumi Airport.\n",
            "AIT has a remote campus called AIT Center in Vietnam. It was established in 1993 under the memorandum of\n",
            "understanding between the Vietnam Ministry of Education and Training and the AIT.[17] At that time AITCV\n",
            "    Question: <pad> What  is  the  Asian  Institute  of  Technology  (AIT)?\n",
            "\n",
            "    Answer:\u001b[0m\n",
            "\n",
            "\u001b[1m> Finished chain.\u001b[0m\n",
            "\n",
            "\u001b[1m> Finished chain.\u001b[0m\n",
            "\n",
            "\u001b[1m> Finished chain.\u001b[0m\n"
          ]
        },
        {
          "data": {
            "text/plain": [
              "{'question': 'Asian Institute of Technology',\n",
              " 'chat_history': [HumanMessage(content='Who are you by the way?'),\n",
              "  AIMessage(content='<pad>  I  am  AIT  GPT  (Global  Partnership  Team)  to  answer  all  the  question  about  the  institution.\\n')],\n",
              " 'answer': '<pad>  The  Asian  Institute  of  Technology  (AIT)  is  an  international  organization  for  higher  education  situated  40km  north  of  Bangkok,  Thailand.  It  specializes  in  engineering,  advanced  technologies,  sustainable  development,  and  management  and  planning.\\n',\n",
              " 'source_documents': [Document(page_content=\"Asian Institute of\\nTechnology\\nAIT\\nFormer\\nnames\\nSEATO Graduate\\nSchool of\\nEngineering\\nMotto\\n'Social Impact with\\nInnovation'\\nEstablished\\n1959\\nPresident\\nKazuo Yamamoto\\nAcademic\\nstaff\\nAbout 100\\nStudents\\n1,700+\\nAddress\\n58 Moo 9, Km42,\\nPaholyothin\\nHighway, Khlong\\nLuang, Pathum\\nThani, Thailand\\nAffiliations\\nIAU, ASAIHL,\\nGMSARN,\\nProSPER.Net,\\nACTU, ANSO\\nWebsite\\nwww.ait.ac.th (http\\ns://www.ait.ac.th/)\\nAsian Institute of Technology\\nThe Asian Institute of Technology (AIT), founded in 1959, is an\\ninternational organization for higher education situated 40km north of\\nBangkok, \\nThailand. \\nIt \\nspecializes \\nin \\nengineering, \\nadvanced\\ntechnologies, sustainable development, and management and planning.\", metadata={'source': 'AIT.pdf', 'file_path': 'AIT.pdf', 'page': 0, 'total_pages': 13, 'format': 'PDF 1.4', 'title': '', 'author': '', 'subject': '', 'keywords': '', 'creator': 'Chromium', 'producer': 'Skia/PDF m121', 'creationDate': \"D:20240320125911+00'00'\", 'modDate': \"D:20240320125911+00'00'\", 'trapped': ''}),\n",
              "  Document(page_content='Asia and 1st in Thailand. It also ranked 7th in Asia for Diversity and 18th in the world for Return on Investment.\\nIn the QS World University Rankings by Subject 2020, AIT ranked 2nd in Thailand in Engineering and\\nTechnology,[12] 151-200th in the world in Environmental Studies[13] and in Architecture & Built\\nEnvironment,[14] and 201-250th in the world in Civil and Structural Engineering[15] and in Agricultural and\\nForestry.[16]\\nAIT operates as a self-contained international community at its campus in Pathumthani Province, some 40\\nkilometres (25 mi) north of Bangkok, Thailand. Besides laboratories and academic buildings, the main campus', metadata={'source': 'AIT.pdf', 'file_path': 'AIT.pdf', 'page': 1, 'total_pages': 13, 'format': 'PDF 1.4', 'title': '', 'author': '', 'subject': '', 'keywords': '', 'creator': 'Chromium', 'producer': 'Skia/PDF m121', 'creationDate': \"D:20240320125911+00'00'\", 'modDate': \"D:20240320125911+00'00'\", 'trapped': ''}),\n",
              "  Document(page_content='AIT Alumni Association, Thailand Chapter (https://web.archive.org/web/20060319175710/http://w\\nww.aitthai.or.th/)\\nAIT videos on YouTube (https://www.youtube.com/user/aitasia)\\nAIT Alumni in Vietnam (https://web.archive.org/web/20120722021252/http://360.aitaa.vn/)\\nUnified International Bachelor-Master Degree Program (http://www.unified.ait.ac.th/)\\nRetrieved from \"https://en.wikipedia.org/w/index.php?title=Asian_Institute_of_Technology&oldid=1209069273\"', metadata={'source': 'AIT.pdf', 'file_path': 'AIT.pdf', 'page': 12, 'total_pages': 13, 'format': 'PDF 1.4', 'title': '', 'author': '', 'subject': '', 'keywords': '', 'creator': 'Chromium', 'producer': 'Skia/PDF m121', 'creationDate': \"D:20240320125911+00'00'\", 'modDate': \"D:20240320125911+00'00'\", 'trapped': ''}),\n",
              "  Document(page_content='includes housing, sports, and medical facilities, a conference center, and a library with over 230,000 volumes\\nand 830 print and online periodicals.\\nAIT was hosted by the Faculty of Engineering, Chulalongkorn University, Thailand, before it moved to its\\npresent campus in November 1973. Currently, it is located in the Rangsit area next to Thammasat University\\n(Rangsit Campus), about 65 kilometers from the Suvarnabhumi Airport.\\nAIT has a remote campus called AIT Center in Vietnam. It was established in 1993 under the memorandum of\\nunderstanding between the Vietnam Ministry of Education and Training and the AIT.[17] At that time AITCV', metadata={'source': 'AIT.pdf', 'file_path': 'AIT.pdf', 'page': 1, 'total_pages': 13, 'format': 'PDF 1.4', 'title': '', 'author': '', 'subject': '', 'keywords': '', 'creator': 'Chromium', 'producer': 'Skia/PDF m121', 'creationDate': \"D:20240320125911+00'00'\", 'modDate': \"D:20240320125911+00'00'\", 'trapped': ''})]}"
            ]
          },
          "execution_count": 68,
          "metadata": {},
          "output_type": "execute_result"
        }
      ],
      "source": [
        "prompt_question = \"Asian Institute of Technology\"\n",
        "answer = chain({\"question\":prompt_question})\n",
        "answer"
      ]
    },
    {
      "cell_type": "code",
      "execution_count": null,
      "metadata": {
        "colab": {
          "base_uri": "https://localhost:8080/",
          "height": 70
        },
        "id": "qZxNC25TMYfE",
        "outputId": "7b14d386-71c5-4258-ae42-978a811ba4fb"
      },
      "outputs": [
        {
          "data": {
            "application/vnd.google.colaboratory.intrinsic+json": {
              "type": "string"
            },
            "text/plain": [
              "'<pad>  The  Asian  Institute  of  Technology  (AIT)  is  an  international  organization  for  higher  education  situated  40km  north  of  Bangkok,  Thailand.  It  specializes  in  engineering,  advanced  technologies,  sustainable  development,  and  management  and  planning.\\n'"
            ]
          },
          "execution_count": 69,
          "metadata": {},
          "output_type": "execute_result"
        }
      ],
      "source": [
        "answer['answer']"
      ]
    },
    {
      "cell_type": "code",
      "execution_count": null,
      "metadata": {
        "id": "agzKOlFXMZVM"
      },
      "outputs": [],
      "source": []
    }
  ],
  "metadata": {
    "accelerator": "GPU",
    "colab": {
      "gpuType": "T4",
      "provenance": []
    },
    "kernelspec": {
      "display_name": "Python 3",
      "name": "python3"
    },
    "language_info": {
      "codemirror_mode": {
        "name": "ipython",
        "version": 3
      },
      "file_extension": ".py",
      "mimetype": "text/x-python",
      "name": "python",
      "nbconvert_exporter": "python",
      "pygments_lexer": "ipython3",
      "version": "3.12.1"
    }
  },
  "nbformat": 4,
  "nbformat_minor": 0
}
